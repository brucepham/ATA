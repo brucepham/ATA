{
  "nbformat": 4,
  "nbformat_minor": 2,
  "cells": [
    {
      "cell_type": "markdown",
      "metadata": {
        "nteract": {
          "transient": {
            "deleting": false
          }
        }
      },
      "source": [
        "In this notebook, you'll learn how to use Apache Spark MLlib to create a machine learning application that does simple predictive analysis on an Azure open dataset. Spark provides built-in machine learning libraries. This example uses classification through logistic regression.\r\n",
        "\r\n",
        "SparkML and MLlib are core Spark libraries that provides many utilities that are useful for machine learning tasks, including utilities that are suitable for:\r\n",
        "\r\n",
        "Classification<BR>\r\n",
        "Regression<BR>\r\n",
        "Clustering<BR>\r\n",
        "Topic modeling<BR>\r\n",
        "Singular value decomposition (SVD) and principal component analysis (PCA)<BR>\r\n",
        "Hypothesis testing and calculating sample statistics<BR>"
      ]
    },
    {
      "cell_type": "code",
      "execution_count": 26,
      "outputs": [
        {
          "output_type": "display_data",
          "data": {
            "application/vnd.livy.statement-meta+json": {
              "spark_pool": "SparkPool01",
              "session_id": 8,
              "statement_id": 19,
              "state": "submitted",
              "livy_statement_state": "available",
              "queued_time": "2021-01-20T00:56:23.3343672Z",
              "execution_start_time": "2021-01-20T00:56:23.3725071Z",
              "execution_finish_time": null
            },
            "text/plain": "StatementMeta(SparkPool01, 8, 19, Submitted, Available)"
          },
          "metadata": {}
        },
        {
          "output_type": "execute_result",
          "data": {
            "text/plain": ""
          },
          "execution_count": 26,
          "metadata": {}
        }
      ],
      "metadata": {
        "jupyter": {
          "source_hidden": false,
          "outputs_hidden": false
        },
        "nteract": {
          "transient": {
            "deleting": false
          }
        },
        "collapsed": true
      },
      "source": [
        "# Import the types required for this application\r\n",
        "\r\n",
        "import matplotlib.pyplot as plt\r\n",
        "from datetime import datetime\r\n",
        "from dateutil import parser\r\n",
        "from pyspark.sql.functions import unix_timestamp, date_format, col, when\r\n",
        "from pyspark.ml import Pipeline\r\n",
        "from pyspark.ml import PipelineModel\r\n",
        "from pyspark.ml.feature import RFormula\r\n",
        "from pyspark.ml.feature import OneHotEncoder, StringIndexer, VectorIndexer\r\n",
        "from pyspark.ml.classification import LogisticRegression\r\n",
        "from pyspark.mllib.evaluation import BinaryClassificationMetrics\r\n",
        "from pyspark.ml.evaluation import BinaryClassificationEvaluator"
      ]
    },
    {
      "cell_type": "markdown",
      "metadata": {
        "nteract": {
          "transient": {
            "deleting": false
          }
        }
      },
      "source": [
        "This retrieves the data via the Open Datasets API. Pulling all of this data generates about 1.5 billion rows. Depending on the size of your serverless Apache Spark pool, the raw data may be too large or take too much time to operate on. You can filter this data down to something smaller. The following code example uses start_date and end_date to apply a filter that returns a single month of data."
      ]
    },
    {
      "cell_type": "code",
      "execution_count": 12,
      "outputs": [
        {
          "output_type": "display_data",
          "data": {
            "application/vnd.livy.statement-meta+json": {
              "spark_pool": "SparkPool01",
              "session_id": 8,
              "statement_id": 5,
              "state": "finished",
              "livy_statement_state": "available",
              "queued_time": "2021-01-20T00:30:00.5679703Z",
              "execution_start_time": "2021-01-20T00:30:00.6060597Z",
              "execution_finish_time": "2021-01-20T00:30:23.4138818Z"
            },
            "text/plain": "StatementMeta(SparkPool01, 8, 5, Finished, Available)"
          },
          "metadata": {}
        },
        {
          "output_type": "execute_result",
          "data": {
            "text/plain": ""
          },
          "execution_count": 12,
          "metadata": {}
        }
      ],
      "metadata": {},
      "source": [
        "from azureml.opendatasets import NycTlcYellow\r\n",
        "\r\n",
        "end_date = parser.parse('2018-06-06')\r\n",
        "start_date = parser.parse('2018-05-01')\r\n",
        "nyc_tlc = NycTlcYellow(start_date=start_date, end_date=end_date)\r\n",
        "filtered_df = nyc_tlc.to_spark_dataframe()"
      ]
    },
    {
      "cell_type": "markdown",
      "metadata": {
        "nteract": {
          "transient": {
            "deleting": false
          }
        }
      },
      "source": [
        "The downside to simple filtering is that, from a statistical perspective, it may introduce bias into the data. Another approach is to use the sampling built into Spark. The following code reduces the dataset down to about 2000 rows, if applied after the code above. This sampling step can be used instead of the simple filter or in conjunction with the simple filter."
      ]
    },
    {
      "cell_type": "code",
      "execution_count": 13,
      "outputs": [
        {
          "output_type": "display_data",
          "data": {
            "application/vnd.livy.statement-meta+json": {
              "spark_pool": "SparkPool01",
              "session_id": 8,
              "statement_id": 6,
              "state": "finished",
              "livy_statement_state": "available",
              "queued_time": "2021-01-20T00:30:02.7860065Z",
              "execution_start_time": "2021-01-20T00:30:23.4479365Z",
              "execution_finish_time": "2021-01-20T00:30:25.4937138Z"
            },
            "text/plain": "StatementMeta(SparkPool01, 8, 6, Finished, Available)"
          },
          "metadata": {}
        },
        {
          "output_type": "execute_result",
          "data": {
            "text/plain": ""
          },
          "execution_count": 13,
          "metadata": {}
        }
      ],
      "metadata": {
        "jupyter": {
          "source_hidden": false,
          "outputs_hidden": false
        },
        "nteract": {
          "transient": {
            "deleting": false
          }
        },
        "collapsed": true
      },
      "source": [
        "# To make development easier, faster and less expensive down sample for now\r\n",
        "sampled_taxi_df = filtered_df.sample(True, 0.001, seed=1234)"
      ]
    },
    {
      "cell_type": "markdown",
      "metadata": {
        "nteract": {
          "transient": {
            "deleting": false
          }
        }
      },
      "source": [
        "It is normally better to review data with a subset rather than the full set depending on the size of the dataset. The following code offers two ways to view the data: the former being basic and the latter providing a much richer grid experience, as well as the capability to visualize the data graphically."
      ]
    },
    {
      "cell_type": "code",
      "execution_count": 14,
      "outputs": [
        {
          "output_type": "display_data",
          "data": {
            "application/vnd.livy.statement-meta+json": {
              "spark_pool": "SparkPool01",
              "session_id": 8,
              "statement_id": 7,
              "state": "finished",
              "livy_statement_state": "available",
              "queued_time": "2021-01-20T00:30:28.0283178Z",
              "execution_start_time": "2021-01-20T00:30:28.073279Z",
              "execution_finish_time": "2021-01-20T00:30:38.3794819Z"
            },
            "text/plain": "StatementMeta(SparkPool01, 8, 7, Finished, Available)"
          },
          "metadata": {}
        },
        {
          "output_type": "display_data",
          "data": {
            "application/vnd.synapse.widget-view+json": {
              "widget_id": "4c29798b-db0e-4270-bba8-8acc67c89848",
              "widget_type": "Synapse.DataFrame"
            },
            "text/plain": "SynapseWidget(Synapse.DataFrame, 4c29798b-db0e-4270-bba8-8acc67c89848)"
          },
          "metadata": {}
        },
        {
          "output_type": "execute_result",
          "data": {},
          "execution_count": 14,
          "metadata": {}
        }
      ],
      "metadata": {
        "jupyter": {
          "source_hidden": false,
          "outputs_hidden": false
        },
        "nteract": {
          "transient": {
            "deleting": false
          }
        },
        "collapsed": false
      },
      "source": [
        "#sampled_taxi_df.show(5)\r\n",
        "display(sampled_taxi_df)"
      ]
    },
    {
      "cell_type": "markdown",
      "metadata": {
        "nteract": {
          "transient": {
            "deleting": false
          }
        }
      },
      "source": [
        "Depending on the size of the dataset size generated, and your need to experiment or run the notebook many times, it may be advisable to cache the dataset locally in the workspace. There are three ways to perform explicit caching:\r\n",
        "\r\n",
        "Save the dataframe locally as a file<br>\r\n",
        "Save the dataframe as a temporary table or view<br>\r\n",
        "Save the dataframe as a permanent table<br><br>\r\n",
        "The first 2 of these approaches are included in the following code examples.<br>\r\n",
        "\r\n",
        "Creating a temp table or view provides different access paths to the data, but only lasts for the duration of the Spark instance session."
      ]
    },
    {
      "cell_type": "code",
      "execution_count": 16,
      "outputs": [
        {
          "output_type": "display_data",
          "data": {
            "application/vnd.livy.statement-meta+json": {
              "spark_pool": "SparkPool01",
              "session_id": 8,
              "statement_id": 9,
              "state": "finished",
              "livy_statement_state": "available",
              "queued_time": "2021-01-20T00:30:55.5437703Z",
              "execution_start_time": "2021-01-20T00:30:55.5831055Z",
              "execution_finish_time": "2021-01-20T00:30:57.6182456Z"
            },
            "text/plain": "StatementMeta(SparkPool01, 8, 9, Finished, Available)"
          },
          "metadata": {}
        },
        {
          "output_type": "execute_result",
          "data": {
            "text/plain": ""
          },
          "execution_count": 16,
          "metadata": {}
        }
      ],
      "metadata": {
        "jupyter": {
          "source_hidden": false,
          "outputs_hidden": false
        },
        "nteract": {
          "transient": {
            "deleting": false
          }
        },
        "collapsed": true
      },
      "source": [
        "sampled_taxi_df.createOrReplaceTempView(\"nytaxi\")"
      ]
    },
    {
      "cell_type": "markdown",
      "metadata": {
        "nteract": {
          "transient": {
            "deleting": false
          }
        }
      },
      "source": [
        "The data in its raw form is frequently not suitable for passing directly to a model. A series of actions must be performed on the data to get it into a state where the model can consume it.\r\n",
        "\r\n",
        "In the code below four classes of operations are performed:<BR>\r\n",
        "\r\n",
        "The removal of outliers/incorrect values through filtering.<BR>\r\n",
        "The removal of columns, which are not needed.<BR>\r\n",
        "The creation of new columns derived from the raw data to make the model work more effectively, sometimes called featurization.<BR>\r\n",
        "Labeling - since you are undertaking binary classification (will there be a tip or not on a given trip) there is a need to convert the tip amount into a 0 or 1 value."
      ]
    },
    {
      "cell_type": "code",
      "execution_count": 17,
      "outputs": [
        {
          "output_type": "display_data",
          "data": {
            "application/vnd.livy.statement-meta+json": {
              "spark_pool": "SparkPool01",
              "session_id": 8,
              "statement_id": 10,
              "state": "finished",
              "livy_statement_state": "available",
              "queued_time": "2021-01-20T00:31:02.7307858Z",
              "execution_start_time": "2021-01-20T00:31:02.7690858Z",
              "execution_finish_time": "2021-01-20T00:31:04.8147706Z"
            },
            "text/plain": "StatementMeta(SparkPool01, 8, 10, Finished, Available)"
          },
          "metadata": {}
        },
        {
          "output_type": "execute_result",
          "data": {
            "text/plain": ""
          },
          "execution_count": 17,
          "metadata": {}
        }
      ],
      "metadata": {
        "jupyter": {
          "source_hidden": false,
          "outputs_hidden": false
        },
        "nteract": {
          "transient": {
            "deleting": false
          }
        },
        "collapsed": true
      },
      "source": [
        "taxi_df = sampled_taxi_df.select('totalAmount', 'fareAmount', 'tipAmount', 'paymentType', 'rateCodeId', 'passengerCount'\\\r\n",
        "                                , 'tripDistance', 'tpepPickupDateTime', 'tpepDropoffDateTime'\\\r\n",
        "                                , date_format('tpepPickupDateTime', 'hh').alias('pickupHour')\\\r\n",
        "                                , date_format('tpepPickupDateTime', 'EEEE').alias('weekdayString')\\\r\n",
        "                                , (unix_timestamp(col('tpepDropoffDateTime')) - unix_timestamp(col('tpepPickupDateTime'))).alias('tripTimeSecs')\\\r\n",
        "                                , (when(col('tipAmount') > 0, 1).otherwise(0)).alias('tipped')\r\n",
        "                                )\\\r\n",
        "                        .filter((sampled_taxi_df.passengerCount > 0) & (sampled_taxi_df.passengerCount < 8)\\\r\n",
        "                                & (sampled_taxi_df.tipAmount >= 0) & (sampled_taxi_df.tipAmount <= 25)\\\r\n",
        "                                & (sampled_taxi_df.fareAmount >= 1) & (sampled_taxi_df.fareAmount <= 250)\\\r\n",
        "                                & (sampled_taxi_df.tipAmount < sampled_taxi_df.fareAmount)\\\r\n",
        "                                & (sampled_taxi_df.tripDistance > 0) & (sampled_taxi_df.tripDistance <= 100)\\\r\n",
        "                                & (sampled_taxi_df.rateCodeId <= 5)\r\n",
        "                                & (sampled_taxi_df.paymentType.isin({\"1\", \"2\"}))\r\n",
        "                                )"
      ]
    },
    {
      "cell_type": "markdown",
      "metadata": {
        "nteract": {
          "transient": {
            "deleting": false
          }
        }
      },
      "source": [
        "A second pass is then made over the data to add the final features."
      ]
    },
    {
      "cell_type": "code",
      "execution_count": 18,
      "outputs": [
        {
          "output_type": "display_data",
          "data": {
            "application/vnd.livy.statement-meta+json": {
              "spark_pool": "SparkPool01",
              "session_id": 8,
              "statement_id": 11,
              "state": "finished",
              "livy_statement_state": "available",
              "queued_time": "2021-01-20T00:31:05.6360452Z",
              "execution_start_time": "2021-01-20T00:31:05.6751306Z",
              "execution_finish_time": "2021-01-20T00:31:07.7230332Z"
            },
            "text/plain": "StatementMeta(SparkPool01, 8, 11, Finished, Available)"
          },
          "metadata": {}
        },
        {
          "output_type": "execute_result",
          "data": {
            "text/plain": ""
          },
          "execution_count": 18,
          "metadata": {}
        }
      ],
      "metadata": {
        "jupyter": {
          "source_hidden": false,
          "outputs_hidden": false
        },
        "nteract": {
          "transient": {
            "deleting": false
          }
        },
        "collapsed": true
      },
      "source": [
        "taxi_featurised_df = taxi_df.select('totalAmount', 'fareAmount', 'tipAmount', 'paymentType', 'passengerCount'\\\r\n",
        "                                                , 'tripDistance', 'weekdayString', 'pickupHour','tripTimeSecs','tipped'\\\r\n",
        "                                                , when((taxi_df.pickupHour <= 6) | (taxi_df.pickupHour >= 20),\"Night\")\\\r\n",
        "                                                .when((taxi_df.pickupHour >= 7) & (taxi_df.pickupHour <= 10), \"AMRush\")\\\r\n",
        "                                                .when((taxi_df.pickupHour >= 11) & (taxi_df.pickupHour <= 15), \"Afternoon\")\\\r\n",
        "                                                .when((taxi_df.pickupHour >= 16) & (taxi_df.pickupHour <= 19), \"PMRush\")\\\r\n",
        "                                                .otherwise(0).alias('trafficTimeBins')\r\n",
        "                                              )\\\r\n",
        "                                       .filter((taxi_df.tripTimeSecs >= 30) & (taxi_df.tripTimeSecs <= 7200))"
      ]
    },
    {
      "cell_type": "markdown",
      "metadata": {
        "nteract": {
          "transient": {
            "deleting": false
          }
        }
      },
      "source": [
        "The final task is to convert the labeled data into a format that can be analyzed by logistic regression. The input to a logistic regression algorithm needs to be a set of label-feature vector pairs, where the feature vector is a vector of numbers representing the input point. So, we need to convert the categorical columns into numbers. The trafficTimeBins and weekdayString columns need converting into integer representations. There are multiple approaches to performing the conversion, however the approach taken in this example is OneHotEncoding, a common approach."
      ]
    },
    {
      "cell_type": "code",
      "execution_count": 19,
      "outputs": [
        {
          "output_type": "display_data",
          "data": {
            "application/vnd.livy.statement-meta+json": {
              "spark_pool": "SparkPool01",
              "session_id": 8,
              "statement_id": 12,
              "state": "finished",
              "livy_statement_state": "available",
              "queued_time": "2021-01-20T00:31:19.3226335Z",
              "execution_start_time": "2021-01-20T00:31:19.3591751Z",
              "execution_finish_time": "2021-01-20T00:31:27.5288383Z"
            },
            "text/plain": "StatementMeta(SparkPool01, 8, 12, Finished, Available)"
          },
          "metadata": {}
        },
        {
          "output_type": "execute_result",
          "data": {
            "text/plain": ""
          },
          "execution_count": 19,
          "metadata": {}
        }
      ],
      "metadata": {
        "jupyter": {
          "source_hidden": false,
          "outputs_hidden": false
        },
        "nteract": {
          "transient": {
            "deleting": false
          }
        },
        "collapsed": true
      },
      "source": [
        "# Since the sample uses an algorithm that only works with numeric features, convert them so they can be consumed\r\n",
        "sI1 = StringIndexer(inputCol=\"trafficTimeBins\", outputCol=\"trafficTimeBinsIndex\")\r\n",
        "en1 = OneHotEncoder(dropLast=False, inputCol=\"trafficTimeBinsIndex\", outputCol=\"trafficTimeBinsVec\")\r\n",
        "sI2 = StringIndexer(inputCol=\"weekdayString\", outputCol=\"weekdayIndex\")\r\n",
        "en2 = OneHotEncoder(dropLast=False, inputCol=\"weekdayIndex\", outputCol=\"weekdayVec\")\r\n",
        "\r\n",
        "# Create a new dataframe that has had the encodings applied\r\n",
        "encoded_final_df = Pipeline(stages=[sI1, en1, sI2, en2]).fit(taxi_featurised_df).transform(taxi_featurised_df)"
      ]
    },
    {
      "cell_type": "markdown",
      "metadata": {
        "nteract": {
          "transient": {
            "deleting": false
          }
        }
      },
      "source": [
        "The first task is to split the dataset into a training set and a testing or validation set. The split here is arbitrary and you should play around with different split settings to see if they impact the model."
      ]
    },
    {
      "cell_type": "code",
      "execution_count": 21,
      "outputs": [
        {
          "output_type": "display_data",
          "data": {
            "application/vnd.livy.statement-meta+json": {
              "spark_pool": "SparkPool01",
              "session_id": 8,
              "statement_id": 14,
              "state": "finished",
              "livy_statement_state": "available",
              "queued_time": "2021-01-20T00:32:09.8114597Z",
              "execution_start_time": "2021-01-20T00:32:09.8602059Z",
              "execution_finish_time": "2021-01-20T00:32:11.9079429Z"
            },
            "text/plain": "StatementMeta(SparkPool01, 8, 14, Finished, Available)"
          },
          "metadata": {}
        },
        {
          "output_type": "execute_result",
          "data": {
            "text/plain": ""
          },
          "execution_count": 21,
          "metadata": {}
        }
      ],
      "metadata": {
        "jupyter": {
          "source_hidden": false,
          "outputs_hidden": false
        },
        "nteract": {
          "transient": {
            "deleting": false
          }
        },
        "collapsed": true
      },
      "source": [
        "#Decide on the split between training and testing data from the dataframe\r\n",
        "trainingFraction = 0.7\r\n",
        "testingFraction = (1-trainingFraction)\r\n",
        "seed = 1234\r\n",
        "\r\n",
        "# Split the dataframe into test and training dataframes\r\n",
        "train_data_df, test_data_df = encoded_final_df.randomSplit([trainingFraction, testingFraction], seed=seed)"
      ]
    },
    {
      "cell_type": "markdown",
      "metadata": {
        "nteract": {
          "transient": {
            "deleting": false
          }
        }
      },
      "source": [
        "Now that there are two DataFrames, the next task is to create the model formula and run it against the training DataFrame, then validate against the testing DataFrame. You should experiment with different versions of the model formula to see the impact of different combinations.\r\n",
        "\r\n",
        "To save the model, you will need the Storage Blob Data Contributor Azure role. Under your storage account, navigate to Access Control (IAM), and select Add role assignment. Assign Storage Blob Data Contributor Azure role to your SQL Database server. Only members with Owner privilege can perform this step. For various Azure built-in roles, refer to this guide."
      ]
    },
    {
      "cell_type": "code",
      "execution_count": 22,
      "outputs": [
        {
          "output_type": "display_data",
          "data": {
            "application/vnd.livy.statement-meta+json": {
              "spark_pool": "SparkPool01",
              "session_id": 8,
              "statement_id": 15,
              "state": "finished",
              "livy_statement_state": "available",
              "queued_time": "2021-01-20T00:32:16.2945123Z",
              "execution_start_time": "2021-01-20T00:32:16.3330186Z",
              "execution_finish_time": "2021-01-20T00:32:49.0514619Z"
            },
            "text/plain": "StatementMeta(SparkPool01, 8, 15, Finished, Available)"
          },
          "metadata": {}
        },
        {
          "output_type": "execute_result",
          "data": {
            "text/plain": "Area under ROC = 0.9768707482993197"
          },
          "execution_count": 22,
          "metadata": {}
        }
      ],
      "metadata": {
        "jupyter": {
          "source_hidden": false,
          "outputs_hidden": false
        },
        "nteract": {
          "transient": {
            "deleting": false
          }
        },
        "collapsed": true
      },
      "source": [
        "## Create a new LR object for the model\r\n",
        "logReg = LogisticRegression(maxIter=10, regParam=0.3, labelCol = 'tipped')\r\n",
        "\r\n",
        "## The formula for the model\r\n",
        "classFormula = RFormula(formula=\"tipped ~ pickupHour + weekdayVec + passengerCount + tripTimeSecs + tripDistance + fareAmount + paymentType+ trafficTimeBinsVec\")\r\n",
        "\r\n",
        "## Undertake training and create an LR model\r\n",
        "lrModel = Pipeline(stages=[classFormula, logReg]).fit(train_data_df)\r\n",
        "\r\n",
        "## Saving the model is optional but its another form of inter session cache\r\n",
        "datestamp = datetime.now().strftime('%m-%d-%Y-%s')\r\n",
        "fileName = \"lrModel_\" + datestamp\r\n",
        "logRegDirfilename = fileName\r\n",
        "lrModel.save(logRegDirfilename)\r\n",
        "\r\n",
        "## Predict tip 1/0 (yes/no) on the test dataset, evaluation using AUROC\r\n",
        "predictions = lrModel.transform(test_data_df)\r\n",
        "predictionAndLabels = predictions.select(\"label\",\"prediction\").rdd\r\n",
        "metrics = BinaryClassificationMetrics(predictionAndLabels)\r\n",
        "print(\"Area under ROC = %s\" % metrics.areaUnderROC)"
      ]
    },
    {
      "cell_type": "markdown",
      "metadata": {
        "nteract": {
          "transient": {
            "deleting": false
          }
        }
      },
      "source": [
        "You can now construct a final visualization to help you reason about the results of this test. An ROC Curve is one way to review the result."
      ]
    },
    {
      "cell_type": "code",
      "execution_count": 23,
      "outputs": [
        {
          "output_type": "display_data",
          "data": {
            "application/vnd.livy.statement-meta+json": {
              "spark_pool": "SparkPool01",
              "session_id": 8,
              "statement_id": 16,
              "state": "finished",
              "livy_statement_state": "available",
              "queued_time": "2021-01-20T00:32:21.7542081Z",
              "execution_start_time": "2021-01-20T00:32:49.0907305Z",
              "execution_finish_time": "2021-01-20T00:32:51.1297528Z"
            },
            "text/plain": "StatementMeta(SparkPool01, 8, 16, Finished, Available)"
          },
          "metadata": {}
        },
        {
          "output_type": "display_data",
          "data": {
            "image/png": "[encoded data removed]"
          },
          "metadata": {}
        },
        {
          "output_type": "execute_result",
          "data": {},
          "execution_count": 23,
          "metadata": {}
        }
      ],
      "metadata": {
        "jupyter": {
          "source_hidden": false,
          "outputs_hidden": false
        },
        "nteract": {
          "transient": {
            "deleting": false
          }
        },
        "collapsed": true
      },
      "source": [
        "## Plot the ROC curve, no need for pandas as this uses the modelSummary object\r\n",
        "modelSummary = lrModel.stages[-1].summary\r\n",
        "\r\n",
        "plt.plot([0, 1], [0, 1], 'r--')\r\n",
        "plt.plot(modelSummary.roc.select('FPR').collect(),\r\n",
        "         modelSummary.roc.select('TPR').collect())\r\n",
        "plt.xlabel('False Positive Rate')\r\n",
        "plt.ylabel('True Positive Rate')\r\n",
        "plt.show()"
      ]
    }
  ],
  "metadata": {
    "save_output": true,
    "kernelspec": {
      "name": "synapse_pyspark",
      "display_name": "Synapse PySpark"
    },
    "language_info": {
      "name": "python"
    }
  }
}