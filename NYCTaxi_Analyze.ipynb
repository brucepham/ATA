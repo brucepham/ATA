{
  "nbformat": 4,
  "nbformat_minor": 2,
  "cells": [
    {
      "cell_type": "markdown",
      "metadata": {
        "nteract": {
          "transient": {
            "deleting": false
          }
        }
      },
      "source": [
        "In this tutorial, we will use several different libraries to help us visualize the dataset. To do this analysis, we will need to import the following libraries:"
      ]
    },
    {
      "cell_type": "code",
      "execution_count": null,
      "outputs": [],
      "metadata": {},
      "source": [
        "import matplotlib.pyplot as plt\r\n",
        "import seaborn as sns\r\n",
        "import pandas as pd"
      ]
    },
    {
      "cell_type": "markdown",
      "metadata": {
        "nteract": {
          "transient": {
            "deleting": false
          }
        }
      },
      "source": [
        "Because the raw data is in a Parquet format, you can use the Spark context to pull the file into memory as a dataframe directly. Create a Spark dataframe by retrieving the data via the Open Datasets API. Here, we will use the Spark dataframe schema on read properties to infer the datatypes and schema."
      ]
    },
    {
      "cell_type": "code",
      "execution_count": null,
      "outputs": [],
      "metadata": {
        "jupyter": {
          "source_hidden": false,
          "outputs_hidden": false
        },
        "nteract": {
          "transient": {
            "deleting": false
          }
        },
        "collapsed": true
      },
      "source": [
        "from azureml.opendatasets import NycTlcYellow\r\n",
        "from datetime import datetime\r\n",
        "from dateutil import parser\r\n",
        "\r\n",
        "end_date = parser.parse('2018-06-06')\r\n",
        "start_date = parser.parse('2018-05-01')\r\n",
        "nyc_tlc = NycTlcYellow(start_date=start_date, end_date=end_date)\r\n",
        "df = nyc_tlc.to_spark_dataframe()"
      ]
    },
    {
      "cell_type": "markdown",
      "metadata": {
        "nteract": {
          "transient": {
            "deleting": false
          }
        }
      },
      "source": [
        "Once the data is read, we will want to do some initial filtering to clean the dataset. We may remove unneeded columns and add additional columns that extract important information. In addition, we will also filter out anomalies within the dataset."
      ]
    },
    {
      "cell_type": "code",
      "execution_count": null,
      "outputs": [],
      "metadata": {
        "jupyter": {
          "source_hidden": false,
          "outputs_hidden": false
        },
        "nteract": {
          "transient": {
            "deleting": false
          }
        },
        "collapsed": true
      },
      "source": [
        "# Filter the dataset \r\n",
        "from pyspark.sql.functions import *\r\n",
        "\r\n",
        "filtered_df = df.select('vendorID', 'passengerCount', 'tripDistance','paymentType', 'fareAmount', 'tipAmount'\\\r\n",
        "                                , date_format('tpepPickupDateTime', 'hh').alias('hour_of_day')\\\r\n",
        "                                , dayofweek('tpepPickupDateTime').alias('day_of_week')\\\r\n",
        "                                , dayofmonth(col('tpepPickupDateTime')).alias('day_of_month'))\\\r\n",
        "                            .filter((df.passengerCount > 0)\\\r\n",
        "                                & (df.tipAmount >= 0)\\\r\n",
        "                                & (df.fareAmount >= 1) & (df.fareAmount <= 250)\\\r\n",
        "                                & (df.tripDistance > 0) & (df.tripDistance <= 200))\r\n",
        "\r\n",
        "filtered_df.createOrReplaceTempView(\"taxi_dataset\")"
      ]
    },
    {
      "cell_type": "markdown",
      "metadata": {
        "nteract": {
          "transient": {
            "deleting": false
          }
        }
      },
      "source": [
        "Using this query, we want to understand how the average tip amounts have changed over period we have selected. This query will also help us identify other useful insights, including the minimum/maximum tip amount per day and the average fare amount. \r\n",
        "\r\n",
        "Once our query finishes running, we can visualize the results by switching to the chart view. In this example, we will create a line chart by specifying the day_of_month field as the key and avgTipAmount as the value. Once you have made the selections, click Apply to refresh your chart."
      ]
    },
    {
      "cell_type": "code",
      "execution_count": null,
      "outputs": [],
      "metadata": {
        "jupyter": {
          "source_hidden": false,
          "outputs_hidden": false
        },
        "nteract": {
          "transient": {
            "deleting": false
          }
        },
        "microsoft": {
          "language": "sparksql"
        },
        "collapsed": false
      },
      "source": [
        "%%sql\r\n",
        "SELECT \r\n",
        "    day_of_month\r\n",
        "    , MIN(tipAmount) AS minTipAmount\r\n",
        "    , MAX(tipAmount) AS maxTipAmount\r\n",
        "    , AVG(tipAmount) AS avgTipAmount\r\n",
        "    , AVG(fareAmount) as fareAmount\r\n",
        "FROM taxi_dataset \r\n",
        "GROUP BY day_of_month\r\n",
        "ORDER BY day_of_month ASC"
      ]
    },
    {
      "cell_type": "markdown",
      "metadata": {
        "nteract": {
          "transient": {
            "deleting": false
          }
        }
      },
      "source": [
        "To make development easier and less expensive, we will down sample the dataset. We will use the built-in Apache Spark sampling capability. In addition, both Seaborn and Matplotlib require a Pandas dataframe or Numpy array. To get a Pandas dataframe, we will use the toPandas() command to convert our dataframe."
      ]
    },
    {
      "cell_type": "code",
      "execution_count": null,
      "outputs": [],
      "metadata": {
        "jupyter": {
          "source_hidden": false,
          "outputs_hidden": false
        },
        "nteract": {
          "transient": {
            "deleting": false
          }
        },
        "collapsed": true
      },
      "source": [
        "# To make development easier, faster and less expensive down sample for now\r\n",
        "sampled_taxi_df = filtered_df.sample(True, 0.001, seed=1234)\r\n",
        "\r\n",
        "# The charting package needs a Pandas dataframe or numpy array do the conversion\r\n",
        "sampled_taxi_pd_df = sampled_taxi_df.toPandas()"
      ]
    },
    {
      "cell_type": "markdown",
      "metadata": {
        "nteract": {
          "transient": {
            "deleting": false
          }
        }
      },
      "source": [
        "First, we want to understand the distribution of tips in our dataset. We will use Matplotlib to create a histogram showing the distribution of tip amount and count. Based on the distribution, we can see that tips are skewed towards amounts less than or equal to $10."
      ]
    },
    {
      "cell_type": "code",
      "execution_count": null,
      "outputs": [],
      "metadata": {
        "jupyter": {
          "source_hidden": false,
          "outputs_hidden": false
        },
        "nteract": {
          "transient": {
            "deleting": false
          }
        },
        "collapsed": true
      },
      "source": [
        "# Look at tips by count histogram using Matplotlib\r\n",
        "\r\n",
        "ax1 = sampled_taxi_pd_df['tipAmount'].plot(kind='hist', bins=25, facecolor='lightblue')\r\n",
        "ax1.set_title('Tip amount distribution')\r\n",
        "ax1.set_xlabel('Tip Amount ($)')\r\n",
        "ax1.set_ylabel('Counts')\r\n",
        "plt.suptitle('')\r\n",
        "plt.show()"
      ]
    },
    {
      "cell_type": "markdown",
      "metadata": {
        "nteract": {
          "transient": {
            "deleting": false
          }
        }
      },
      "source": [
        "Next, we want to understand the relationship between the tips for a given trip and the day of the week. We will use Seaborn to create a box plot summarizing the trends for each day of the week."
      ]
    },
    {
      "cell_type": "code",
      "execution_count": null,
      "outputs": [],
      "metadata": {
        "jupyter": {
          "source_hidden": false,
          "outputs_hidden": false
        },
        "nteract": {
          "transient": {
            "deleting": false
          }
        },
        "collapsed": true
      },
      "source": [
        "# View the distribution of tips by day of week using Seaborn\r\n",
        "ax = sns.boxplot(x=\"day_of_week\", y=\"tipAmount\",data=sampled_taxi_pd_df, showfliers = False)\r\n",
        "ax.set_title('Tip amount distribution per day')\r\n",
        "ax.set_xlabel('Day of Week')\r\n",
        "ax.set_ylabel('Tip Amount ($)')\r\n",
        "plt.show()"
      ]
    },
    {
      "cell_type": "markdown",
      "metadata": {
        "nteract": {
          "transient": {
            "deleting": false
          }
        }
      },
      "source": [
        "Now, another hypothesis that we have may be that there is a positive relationship between the number of passengers and the total taxi tip amount. To verify this relationship, we will run the following code to generate a box plot illustrating the distribution of tips for each passenger count."
      ]
    },
    {
      "cell_type": "code",
      "execution_count": null,
      "outputs": [],
      "metadata": {
        "jupyter": {
          "source_hidden": false,
          "outputs_hidden": false
        },
        "nteract": {
          "transient": {
            "deleting": false
          }
        },
        "collapsed": true
      },
      "source": [
        "# How many passengers tipped by various amounts \r\n",
        "ax2 = sampled_taxi_pd_df.boxplot(column=['tipAmount'], by=['passengerCount'])\r\n",
        "ax2.set_title('Tip amount by Passenger count')\r\n",
        "ax2.set_xlabel('Passenger count')\r\n",
        "ax2.set_ylabel('Tip Amount ($)')\r\n",
        "ax2.set_ylim(0,30)\r\n",
        "plt.suptitle('')\r\n",
        "plt.show()"
      ]
    },
    {
      "cell_type": "markdown",
      "metadata": {
        "nteract": {
          "transient": {
            "deleting": false
          }
        }
      },
      "source": [
        "Last, we want to understand the relationship between the fare amount tip amount. Based on the results, we can see that there are several observations where people do not tip. However, we also see a positive relationship between the overall fare and tip amounts."
      ]
    },
    {
      "cell_type": "code",
      "execution_count": null,
      "outputs": [],
      "metadata": {
        "jupyter": {
          "source_hidden": false,
          "outputs_hidden": false
        },
        "nteract": {
          "transient": {
            "deleting": false
          }
        },
        "collapsed": true
      },
      "source": [
        "# Look at the relationship between fare and tip amounts\r\n",
        "\r\n",
        "ax = sampled_taxi_pd_df.plot(kind='scatter', x= 'fareAmount', y = 'tipAmount', c='blue', alpha = 0.10, s=2.5*(sampled_taxi_pd_df['passengerCount']))\r\n",
        "ax.set_title('Tip amount by Fare amount')\r\n",
        "ax.set_xlabel('Fare Amount ($)')\r\n",
        "ax.set_ylabel('Tip Amount ($)')\r\n",
        "plt.axis([-2, 80, -2, 20])\r\n",
        "plt.suptitle('')\r\n",
        "plt.show()"
      ]
    }
  ],
  "metadata": {
    "save_output": true,
    "kernelspec": {
      "name": "synapse_pyspark",
      "display_name": "Synapse PySpark"
    },
    "language_info": {
      "name": "python"
    },
    "synapse_widget": {
      "version": "0.1",
      "state": {}
    }
  }
}